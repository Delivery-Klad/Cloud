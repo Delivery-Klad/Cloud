{
 "cells": [
  {
   "cell_type": "markdown",
   "metadata": {},
   "source": [
    "# Часть 1"
   ]
  },
  {
   "cell_type": "code",
   "execution_count": 12,
   "metadata": {},
   "outputs": [],
   "source": [
    "import numpy as np\n",
    "import pandas as pd\n",
    "import matplotlib.pyplot as plt\n",
    "import seaborn as sns"
   ]
  },
  {
   "cell_type": "code",
   "execution_count": 13,
   "metadata": {
    "scrolled": true
   },
   "outputs": [
    {
     "name": "stdout",
     "output_type": "stream",
     "text": [
      "Задание №1 Все данные из csv\n",
      "----------------------------------------------------------------------\n",
      "          id  radius  texture  perimeter  area  smoothness  compactness  \\\n",
      "0    1002945       5        4          4     5           7           10   \n",
      "1    1015425       3        1          1     1           2            2   \n",
      "2    1016277       6        8          8     1           3            4   \n",
      "3    1017023       4        1          1     3           2            1   \n",
      "4    1017122       8       10         10     8           7           10   \n",
      "..       ...     ...      ...        ...   ...         ...          ...   \n",
      "344   826923       1        1          1     1           2            1   \n",
      "345   830690       5        2          2     2           3            1   \n",
      "346   831268       1        1          1     1           1            1   \n",
      "347   832226       3        4          4    10           5            1   \n",
      "348   832567       4        2          3     5           3            8   \n",
      "\n",
      "     concavity  concave points  symmetry  fractal dimension  \n",
      "0            3               2         1                  2  \n",
      "1            3               1         1                  2  \n",
      "2            3               7         1                  2  \n",
      "3            3               1         1                  2  \n",
      "4            9               7         1                  4  \n",
      "..         ...             ...       ...                ...  \n",
      "344          1               1         1                  2  \n",
      "345          1               3         1                  2  \n",
      "346          1               3         1                  2  \n",
      "347          3               3         1                  4  \n",
      "348          7               6         1                  4  \n",
      "\n",
      "[349 rows x 11 columns]\n"
     ]
    }
   ],
   "source": [
    "print(\"Задание №1 Все данные из csv\")\n",
    "print(\"----------------------------------------------------------------------\")\n",
    "csv_path = \"F:/breast-cancer-wisconsin.csv\"\n",
    "lst = pd.read_csv(csv_path, sep=',')\n",
    "print(lst)\n"
   ]
  },
  {
   "cell_type": "code",
   "execution_count": 14,
   "metadata": {
    "scrolled": true
   },
   "outputs": [
    {
     "name": "stdout",
     "output_type": "stream",
     "text": [
      "Задание №2 Первые и последние 10 строк\n",
      "----------------------------------------------------------------------\n",
      "        id  radius  texture  perimeter  area  smoothness  compactness  \\\n",
      "0  1002945       5        4          4     5           7           10   \n",
      "1  1015425       3        1          1     1           2            2   \n",
      "2  1016277       6        8          8     1           3            4   \n",
      "3  1017023       4        1          1     3           2            1   \n",
      "4  1017122       8       10         10     8           7           10   \n",
      "5  1018099       1        1          1     1           2           10   \n",
      "6  1018561       2        1          2     1           2            1   \n",
      "7  1033078       2        1          1     1           2            1   \n",
      "8  1033078       4        2          1     1           2            1   \n",
      "9  1035283       1        1          1     1           1            1   \n",
      "\n",
      "   concavity  concave points  symmetry  fractal dimension  \n",
      "0          3               2         1                  2  \n",
      "1          3               1         1                  2  \n",
      "2          3               7         1                  2  \n",
      "3          3               1         1                  2  \n",
      "4          9               7         1                  4  \n",
      "5          3               1         1                  2  \n",
      "6          3               1         1                  2  \n",
      "7          1               1         5                  2  \n",
      "8          2               1         1                  2  \n",
      "9          3               1         1                  2  \n",
      "         id  radius  texture  perimeter  area  smoothness  compactness  \\\n",
      "339  809912      10        3          3     1           2           10   \n",
      "340  810104       1        1          1     1           2            1   \n",
      "341  814265       2        1          1     1           2            1   \n",
      "342  814911       1        1          1     1           2            1   \n",
      "343  822829       7        6          4     8          10           10   \n",
      "344  826923       1        1          1     1           2            1   \n",
      "345  830690       5        2          2     2           3            1   \n",
      "346  831268       1        1          1     1           1            1   \n",
      "347  832226       3        4          4    10           5            1   \n",
      "348  832567       4        2          3     5           3            8   \n",
      "\n",
      "     concavity  concave points  symmetry  fractal dimension  \n",
      "339          7               6         1                  4  \n",
      "340          3               1         1                  2  \n",
      "341          1               1         1                  2  \n",
      "342          1               1         1                  2  \n",
      "343          9               5         3                  4  \n",
      "344          1               1         1                  2  \n",
      "345          1               3         1                  2  \n",
      "346          1               3         1                  2  \n",
      "347          3               3         1                  4  \n",
      "348          7               6         1                  4  \n"
     ]
    }
   ],
   "source": [
    "print(\"Задание №2 Первые и последние 10 строк\")\n",
    "print(\"----------------------------------------------------------------------\")\n",
    "print(lst.head(10))\n",
    "print(lst.tail(10))"
   ]
  },
  {
   "cell_type": "code",
   "execution_count": 15,
   "metadata": {},
   "outputs": [
    {
     "name": "stdout",
     "output_type": "stream",
     "text": [
      "Задание №3 Создание таблицы для всех числовых значений со столбцами: среднее значение (математическое ожидание), медиана, мода, минимальное значение, макcимальное значение, размах, дисперсия, среднеквадратичное отклонение)\n",
      "----------------------------------------------------------------------\n",
      "             название  Мат. ожидание  Медиана     Мода  Мин. значение  \\\n",
      "0                  id  996641.478510  1132347  1182404          61634   \n",
      "1              radius       4.802292        5        1              1   \n",
      "2             texture       3.489971        2        1              1   \n",
      "3           perimeter       3.627507        3        1              1   \n",
      "4                area       3.040115        1        1              1   \n",
      "5          smoothness       3.633238        2        2              1   \n",
      "6         compactness       4.275072        2        1              1   \n",
      "7           concavity       3.882521        3        3              1   \n",
      "8      concave points       3.432665        1        1              1   \n",
      "9            symmetry       1.819484        1        1              1   \n",
      "10  fractal dimension       2.911175        2        2              2   \n",
      "\n",
      "    Макс. значение   Размах     Дисперсия  Ср. кв. отклонение  \n",
      "0          1287775  1226141  8.572545e+10        8.572545e+10  \n",
      "1               10        9  9.814780e+00        9.814780e+00  \n",
      "2               10        9  9.378839e+00        9.378839e+00  \n",
      "3               10        9  9.093341e+00        9.093341e+00  \n",
      "4               10        9  8.617302e+00        8.617302e+00  \n",
      "5               10        9  6.192133e+00        6.192133e+00  \n",
      "6               10        9  1.489855e+01        1.489855e+01  \n",
      "7               10        9  4.682474e+00        4.682474e+00  \n",
      "8               10        9  1.044031e+01        1.044031e+01  \n",
      "9               10        9  3.947357e+00        3.947357e+00  \n",
      "10               4        2  9.921101e-01        9.921101e-01  \n"
     ]
    }
   ],
   "source": [
    "print(\"Задание №3 Создание таблицы для всех числовых значений со столбцами: среднее значение (математическое ожидание), медиана, мода, минимальное значение, макcимальное значение, размах, дисперсия, среднеквадратичное отклонение)\")\n",
    "print(\"----------------------------------------------------------------------\")\n",
    "newlist = {}\n",
    "\n",
    "def created_full_columns_list(columns_list, lst):\n",
    "    columns = ['название', 'Мат. ожидание', 'Медиана', 'Мода', 'Мин. значение', 'Макс. значение',\n",
    "               'Размах', 'Дисперсия', 'Ср. кв. отклонение']\n",
    "    x = lst.columns.tolist()\n",
    "\n",
    "    for col in columns:\n",
    "        columns_list[col] = []\n",
    "    for col in x:\n",
    "        columns_list['название'].append(col)\n",
    "\n",
    "def Average(dict, lst):\n",
    "    x = lst.columns.tolist()\n",
    "    for col in x:\n",
    "        dict['Мат. ожидание'].append(lst[col].mean())\n",
    "def Mediana(dict, lst):\n",
    "    x = lst.columns.tolist()\n",
    "    for col in x:\n",
    "        new_mass = lst[col].tolist()\n",
    "        new_mass.sort()\n",
    "        dict['Медиана'].append(new_mass[len(new_mass)//2])\n",
    "def moda(dict, lst):\n",
    "    x = lst.columns.tolist()\n",
    "\n",
    "    for col in x:\n",
    "        new_list = lst[col].tolist()\n",
    "        new_mass = {}\n",
    "        for per in new_list:\n",
    "            if per in new_mass:\n",
    "                new_mass[per] += 1\n",
    "            else:\n",
    "                new_mass[per] = 0\n",
    "        max = -1\n",
    "        maxn = None\n",
    "        for l in new_mass.keys():\n",
    "            if new_mass[l] > max:\n",
    "                max = new_mass[l]\n",
    "                maxn = l\n",
    "        dict['Мода'].append(maxn)\n",
    "def Min(dict, lst):\n",
    "    x = lst.columns.tolist()\n",
    "    for col in x:\n",
    "        new_mass = lst[col].tolist()\n",
    "        new_mass.sort()\n",
    "        dict['Мин. значение'].append(new_mass[0])\n",
    "\n",
    "def Max(dict, lst):\n",
    "    x = lst.columns.tolist()\n",
    "    for col in x:\n",
    "        new_mass = lst[col].tolist()\n",
    "        new_mass.sort()\n",
    "        dict['Макс. значение'].append(new_mass[len(new_mass)-1])\n",
    "def Scope(dict, lst):\n",
    "    x = lst.columns.tolist()\n",
    "    for col in x:\n",
    "        new_mass = lst[col].tolist()\n",
    "        new_mass.sort()\n",
    "        dict['Размах'].append(new_mass[len(new_mass)-1]-new_mass[0])\n",
    "def Disper(dict, lst):\n",
    "    x = lst.columns.tolist()\n",
    "    for col in x:\n",
    "        new_mass = lst[col].tolist()\n",
    "        s = 0\n",
    "        for i in new_mass:\n",
    "            s += (i-lst[col].mean())*(i - lst[col].mean())\n",
    "        s /= lst[col].count()\n",
    "        dict['Дисперсия'].append(s)\n",
    "def sko(dict, lst):\n",
    "    x = lst.columns.tolist()\n",
    "    for col in x:\n",
    "        new_mass = lst[col].tolist()\n",
    "        s = 0\n",
    "        for i in new_mass:\n",
    "            s += (i-lst[col].mean())*(i - lst[col].mean())\n",
    "        s /= lst[col].count()\n",
    "        import math\n",
    "        math.sqrt(s)\n",
    "        dict['Ср. кв. отклонение'].append(s)\n",
    "def n(dict, lst):\n",
    "    x = lst.columns.tolist()\n",
    "    for col in x:\n",
    "        new_mass = lst[col].tolist()\n",
    "        s = 0\n",
    "        for i in new_mass:\n",
    "            s += (i-lst[col].mean())*(i - lst[col].mean())\n",
    "        s /= lst[col].count()\n",
    "        import math\n",
    "        math.sqrt(s)\n",
    "        dict['Мода'].append(s)\n",
    "created_full_columns_list(newlist, lst)\n",
    "Average(newlist, lst)\n",
    "Mediana(newlist, lst)\n",
    "moda(newlist, lst)\n",
    "Min(newlist, lst)\n",
    "Max(newlist, lst)\n",
    "Scope(newlist, lst)\n",
    "Disper(newlist, lst)\n",
    "sko(newlist, lst)\n",
    "\n",
    "new_df = pd.DataFrame(newlist)\n",
    "print(new_df)"
   ]
  },
  {
   "cell_type": "code",
   "execution_count": 16,
   "metadata": {},
   "outputs": [
    {
     "name": "stdout",
     "output_type": "stream",
     "text": [
      "гистограмма 1\n"
     ]
    },
    {
     "data": {
      "image/png": "[encoded data removed]",
      "text/plain": [
       "<Figure size 864x432 with 1 Axes>"
      ]
     },
     "metadata": {},
     "output_type": "display_data"
    }
   ],
   "source": [
    "print(\"гистограмма 1\")\n",
    "x = np.arange(0, lst['perimeter'].count())\n",
    "y = lst['perimeter'].tolist()\n",
    "\n",
    "fig, ax = plt.subplots()\n",
    "\n",
    "ax.bar(x, y)\n",
    "\n",
    "ax.set_facecolor('seashell')\n",
    "fig.set_facecolor('floralwhite')\n",
    "fig.set_figwidth(12)\n",
    "fig.set_figheight(6)\n",
    "\n",
    "plt.show()"
   ]
  },
  {
   "cell_type": "code",
   "execution_count": 17,
   "metadata": {
    "scrolled": true
   },
   "outputs": [
    {
     "name": "stdout",
     "output_type": "stream",
     "text": [
      "гистограмма 2\n"
     ]
    },
    {
     "data": {
      "image/png": "[encoded data removed]",
      "text/plain": [
       "<Figure size 864x432 with 1 Axes>"
      ]
     },
     "metadata": {},
     "output_type": "display_data"
    }
   ],
   "source": [
    "print(\"гистограмма 2\")\n",
    "\n",
    "x = np.arange(0, lst['area'].count())\n",
    "y = lst['area'].tolist()\n",
    "\n",
    "fig, ax = plt.subplots()\n",
    "\n",
    "ax.bar(x, y)\n",
    "\n",
    "ax.set_facecolor('seashell')\n",
    "fig.set_facecolor('floralwhite')\n",
    "fig.set_figwidth(12)\n",
    "fig.set_figheight(6)\n",
    "\n",
    "plt.show()"
   ]
  },
  {
   "cell_type": "code",
   "execution_count": 18,
   "metadata": {
    "scrolled": false
   },
   "outputs": [
    {
     "name": "stdout",
     "output_type": "stream",
     "text": [
      "Задание №4 Две гистограммы рядом для двух признаков\n",
      "----------------------------------------------------------------------\n"
     ]
    },
    {
     "data": {
      "image/png": "[encoded data removed]",
      "text/plain": [
       "<Figure size 1440x576 with 2 Axes>"
      ]
     },
     "metadata": {
      "needs_background": "light"
     },
     "output_type": "display_data"
    }
   ],
   "source": [
    "print(\"Задание №4 Две гистограммы рядом для двух признаков\")\n",
    "print(\"----------------------------------------------------------------------\")\n",
    "x = np.arange(0, lst['perimeter'].count())\n",
    "y1 = lst['perimeter'].tolist()\n",
    "y2 = lst['area'].tolist()\n",
    "gridsize = (1, 2)\n",
    "fig = plt.figure(figsize=(20, 8))\n",
    "\n",
    "ax2 = plt.subplot2grid(gridsize, (0, 0))\n",
    "ax3 = plt.subplot2grid(gridsize, (0, 1))\n",
    "ax2.bar(x,y1)\n",
    "ax3.bar(x,y2)\n",
    "plt.show()"
   ]
  },
  {
   "cell_type": "code",
   "execution_count": 19,
   "metadata": {},
   "outputs": [
    {
     "name": "stdout",
     "output_type": "stream",
     "text": [
      "Задание №5  Вставить изображение точек на плоскости для этих двух признаков\n",
      "----------------------------------------------------------------------\n"
     ]
    },
    {
     "data": {
      "image/png": "[encoded data removed]",
      "text/plain": [
       "<Figure size 576x576 with 1 Axes>"
      ]
     },
     "metadata": {
      "needs_background": "light"
     },
     "output_type": "display_data"
    }
   ],
   "source": [
    "print(\"Задание №5  Вставить изображение точек на плоскости для этих двух признаков\")\n",
    "print(\"----------------------------------------------------------------------\")\n",
    "\n",
    "x = np.arange(0, lst['perimeter'].count())\n",
    "y1 = lst['perimeter'].tolist()\n",
    "y2 = lst['area'].tolist()\n",
    "\n",
    "fig, ax = plt.subplots()\n",
    "\n",
    "ax.scatter(x, y1, c='orange')\n",
    "ax.scatter(x + 1, y2, c='blue')\n",
    "\n",
    "ax.set_facecolor('white')\n",
    "\n",
    "fig.set_figwidth(8)\n",
    "fig.set_figheight(8)\n",
    "\n",
    "plt.show()"
   ]
  },
  {
   "cell_type": "code",
   "execution_count": 20,
   "metadata": {
    "scrolled": true
   },
   "outputs": [
    {
     "name": "stdout",
     "output_type": "stream",
     "text": [
      "Задание №6  Создать таблицу из двух столбцов с названиями Первый столбец, Второй столбец с N данными, распределенными согласно нормальному закону\n",
      "-------------------------------------------------------------------\n",
      "     Первый столбец  Второй столбец\n",
      "0         -0.426211       -0.697878\n",
      "1         -1.554760       -2.611631\n",
      "2          0.556369       -1.537516\n",
      "3          0.579669        0.801628\n",
      "4         -1.324012       -0.561419\n",
      "..              ...             ...\n",
      "115       -3.287400        0.663277\n",
      "116        1.505618        0.475982\n",
      "117       -1.216088        0.013324\n",
      "118       -0.593756       -0.841105\n",
      "119        1.011651       -0.640136\n",
      "\n",
      "[120 rows x 2 columns]\n"
     ]
    }
   ],
   "source": [
    "print(\"Задание №6  Создать таблицу из двух столбцов с названиями Первый столбец, Второй столбец с N данными, распределенными согласно нормальному закону\")\n",
    "print(\"-------------------------------------------------------------------\")\n",
    "size = 120\n",
    "mean = -1\n",
    "sigma = 1\n",
    "n_lst = pd.DataFrame(columns = ['Первый столбец', 'Второй столбец'] )\n",
    "n_lst['Первый столбец'] = np.random.normal(mean,sigma,size)\n",
    "n_lst['Второй столбец'] = np.random.normal(mean,sigma,size)\n",
    "print(n_lst)"
   ]
  },
  {
   "cell_type": "code",
   "execution_count": 21,
   "metadata": {},
   "outputs": [
    {
     "name": "stdout",
     "output_type": "stream",
     "text": [
      "Задание №7 Две гистограммы рядом для двух признаков\n",
      "------------------------------------------\n"
     ]
    },
    {
     "data": {
      "image/png": "[encoded data removed]",
      "text/plain": [
       "<Figure size 1440x576 with 2 Axes>"
      ]
     },
     "metadata": {
      "needs_background": "light"
     },
     "output_type": "display_data"
    }
   ],
   "source": [
    "print(\"Задание №7 Две гистограммы рядом для двух признаков\")\n",
    "print(\"----------------------------------------------------------------------\")\n",
    "\n",
    "x = np.arange(0, n_lst['Первый столбец'].count())\n",
    "y1 = n_lst['Первый столбец'].tolist()\n",
    "y2 = n_lst['Второй столбец'].tolist()\n",
    "gridsize = (1, 2)\n",
    "fig = plt.figure(figsize=(20, 8))\n",
    "\n",
    "ax2 = plt.subplot2grid(gridsize, (0, 0))\n",
    "ax3 = plt.subplot2grid(gridsize, (0, 1))\n",
    "ax2.bar(x,y1)\n",
    "ax3.bar(x,y2)\n",
    "plt.show()"
   ]
  },
  {
   "cell_type": "code",
   "execution_count": 23,
   "metadata": {},
   "outputs": [
    {
     "name": "stdout",
     "output_type": "stream",
     "text": [
      "Задание №8  Вставить изображение точек на плоскости для этих двух столбцов\n",
      "-------------------------------------------------------------------\n"
     ]
    },
    {
     "data": {
      "image/png": "[encoded data removed]",
      "text/plain": [
       "<Figure size 576x576 with 1 Axes>"
      ]
     },
     "metadata": {
      "needs_background": "light"
     },
     "output_type": "display_data"
    }
   ],
   "source": [
    "print(\"Задание №8  Вставить изображение точек на плоскости для этих двух столбцов\")\n",
    "print(\"-------------------------------------------------------------------\")\n",
    "\n",
    "x = np.arange(0, size)\n",
    "y1 = n_lst['Первый столбец'].tolist()\n",
    "y2 = n_lst['Второй столбец'].tolist()\n",
    "\n",
    "fig, ax = plt.subplots()\n",
    "\n",
    "ax.scatter(x, y1, c='r')\n",
    "ax.scatter(x + 1, y2, c='blue')\n",
    "\n",
    "ax.set_facecolor('white')\n",
    "\n",
    "fig.set_figwidth(8)\n",
    "fig.set_figheight(8)\n",
    "\n",
    "plt.show()"
   ]
  },
  {
   "cell_type": "markdown",
   "metadata": {},
   "source": [
    "# Часть 2 "
   ]
  },
  {
   "cell_type": "code",
   "execution_count": 31,
   "metadata": {},
   "outputs": [],
   "source": [
    "import numpy as np\n",
    "from scipy import stats\n",
    "import pandas as pd\n",
    "import matplotlib.pyplot as plt\n",
    "import seaborn as sns"
   ]
  },
  {
   "cell_type": "code",
   "execution_count": 32,
   "metadata": {},
   "outputs": [
    {
     "name": "stdout",
     "output_type": "stream",
     "text": [
      "Задание №1 Все данные из csv\n",
      "----------------------------------------------------------------------\n",
      "          id  radius  texture  perimeter  area  smoothness  compactness  \\\n",
      "0    1002945       5        4          4     5           7           10   \n",
      "1    1015425       3        1          1     1           2            2   \n",
      "2    1016277       6        8          8     1           3            4   \n",
      "3    1017023       4        1          1     3           2            1   \n",
      "4    1017122       8       10         10     8           7           10   \n",
      "..       ...     ...      ...        ...   ...         ...          ...   \n",
      "344   826923       1        1          1     1           2            1   \n",
      "345   830690       5        2          2     2           3            1   \n",
      "346   831268       1        1          1     1           1            1   \n",
      "347   832226       3        4          4    10           5            1   \n",
      "348   832567       4        2          3     5           3            8   \n",
      "\n",
      "     concavity  concave points  symmetry  fractal dimension  \n",
      "0            3               2         1                  2  \n",
      "1            3               1         1                  2  \n",
      "2            3               7         1                  2  \n",
      "3            3               1         1                  2  \n",
      "4            9               7         1                  4  \n",
      "..         ...             ...       ...                ...  \n",
      "344          1               1         1                  2  \n",
      "345          1               3         1                  2  \n",
      "346          1               3         1                  2  \n",
      "347          3               3         1                  4  \n",
      "348          7               6         1                  4  \n",
      "\n",
      "[349 rows x 11 columns]\n"
     ]
    }
   ],
   "source": [
    "print(\"Задание №1 Все данные из csv\")\n",
    "print(\"----------------------------------------------------------------------\")\n",
    "csv_path = \"F:/breast-cancer-wisconsin.csv\"\n",
    "lst = pd.read_csv(csv_path, sep=',')\n",
    "print(lst)"
   ]
  },
  {
   "cell_type": "code",
   "execution_count": 33,
   "metadata": {},
   "outputs": [
    {
     "name": "stdout",
     "output_type": "stream",
     "text": [
      "Задание №2 Создание нового датафрейма только с нужными для исследования признаками\n",
      "----------------------------------------------------------------------\n",
      "     perimeter  area\n",
      "0            4     5\n",
      "1            1     1\n",
      "2            8     1\n",
      "3            1     3\n",
      "4           10     8\n",
      "..         ...   ...\n",
      "344          1     1\n",
      "345          2     2\n",
      "346          1     1\n",
      "347          4    10\n",
      "348          3     5\n",
      "\n",
      "[349 rows x 2 columns]\n"
     ]
    }
   ],
   "source": [
    "print(\"Задание №2 Создание нового датафрейма только с нужными для исследования признаками\")\n",
    "print(\"----------------------------------------------------------------------\")\n",
    "new_lst = lst[['perimeter', 'area']]\n",
    "print(new_lst)"
   ]
  },
  {
   "cell_type": "code",
   "execution_count": 34,
   "metadata": {},
   "outputs": [
    {
     "data": {
      "image/png": "[encoded data removed]",
      "text/plain": [
       "<Figure size 360x360 with 1 Axes>"
      ]
     },
     "metadata": {
      "needs_background": "light"
     },
     "output_type": "display_data"
    }
   ],
   "source": [
    "sns.lmplot(x = \"perimeter\", y = \"area\", data = new_lst)\n",
    "plt.show()"
   ]
  },
  {
   "cell_type": "code",
   "execution_count": 35,
   "metadata": {},
   "outputs": [
    {
     "name": "stdout",
     "output_type": "stream",
     "text": [
      "Задание №3 Определение коэффициента корреляции Пирсона\n",
      "----------------------------------------------------------------------\n",
      "коэффициента корреляции Пирсона в ручную:  0.6086038187451037\n",
      "коэффициента корреляции Пирсона с помощью np.corrcoef():  0.6086038187451044\n"
     ]
    }
   ],
   "source": [
    "print(\"Задание №3 Определение коэффициента корреляции Пирсона\")\n",
    "print(\"----------------------------------------------------------------------\")\n",
    "def pirson(lst):\n",
    "    aver1 = lst['perimeter'].mean()\n",
    "    aver2 = lst['area'].mean()\n",
    "    mas1 = lst['perimeter'].tolist()\n",
    "    mas2 = lst['area'].tolist()\n",
    "    s1, s2, s3 = 0, 0, 0\n",
    "    for x, y in zip(mas1, mas2):\n",
    "        s1 += (x-aver1)*(y-aver2)\n",
    "        s2 += (x - aver1) * (x - aver1)\n",
    "        s3 += (y - aver2) * (y - aver2)\n",
    "    import math\n",
    "    s2 = math.sqrt(s2)\n",
    "    s3 = math.sqrt(s3)\n",
    "    s = s1/(s2*s3)\n",
    "    return s\n",
    "\n",
    "print(\"коэффициента корреляции Пирсона в ручную: \", pirson(new_lst))\n",
    "aver1 = new_lst['perimeter'].tolist()\n",
    "aver2 = new_lst['area'].tolist()\n",
    "x = np.corrcoef(np.vstack((aver1, aver2)))\n",
    "otv = x[0][1]\n",
    "print(\"коэффициента корреляции Пирсона с помощью np.corrcoef(): \",otv)"
   ]
  },
  {
   "cell_type": "code",
   "execution_count": 36,
   "metadata": {},
   "outputs": [
    {
     "name": "stdout",
     "output_type": "stream",
     "text": [
      "Задание №4 Вычисление p-value\n",
      "----------------------------------------------------------------------\n",
      "по формуле:  0.009417337308328713\n",
      "Подсчет вручную:  4.001299400480107e-05\n"
     ]
    }
   ],
   "source": [
    "print(\"Задание №4 Вычисление p-value\")\n",
    "print(\"----------------------------------------------------------------------\")\n",
    "print(\"по формуле: \", stats.ttest_ind(aver1,aver2).pvalue)\n",
    "pval = stats.ttest_ind(aver1,aver2).pvalue\n",
    "import math\n",
    "def d_ttest(probability, X, Y):\n",
    "    mean1, mean2 = np.mean(X), np.mean(Y)\n",
    "    n = len(X)\n",
    "    q1 = sum([(X[i]-Y[i])**2 for i in range(n)])\n",
    "    q2 = sum([X[i]-Y[i] for i in range(n)])\n",
    "    sd = math.sqrt((q1 - (q2**2 / n)) / (n - 1))\n",
    "    sed = sd / math.sqrt(n)\n",
    "    ts = (mean1 - mean2) / sed\n",
    "    lst = n - 1\n",
    "    cv = stats.t.ppf(1.0 - probability, lst)\n",
    "    p = (1.0 - stats.t.cdf(abs(ts), lst)) * 2.0\n",
    "    return p\n",
    "\n",
    "print(\"Подсчет вручную: \", d_ttest(0.05,new_lst['perimeter'], new_lst['area']))"
   ]
  },
  {
   "cell_type": "code",
   "execution_count": 30,
   "metadata": {},
   "outputs": [
    {
     "name": "stdout",
     "output_type": "stream",
     "text": [
      "Описание корреляции признаков в выборке и оценка возможности отклонить нулевую гипотезу о том, что в генеральной совокупности коэффициент корреляции равен нулю\n",
      "---------------------------------------------------\n",
      "Гипотезу можно отвергнуть.\n"
     ]
    }
   ],
   "source": [
    "print(\"Описание корреляции признаков в выборке и оценка возможности отклонить нулевую гипотезу о том, что в генеральной совокупности коэффициент корреляции равен нулю\")\n",
    "print(\"----------------------------------------------------------------------\")\n",
    "if pval < 0.05 : \n",
    "  print('Гипотезу можно отвергнуть.')\n",
    "else:\n",
    "  print('Гипотезу нельзя отвергнуть.')"
   ]
  },
  {
   "cell_type": "code",
   "execution_count": 38,
   "metadata": {},
   "outputs": [
    {
     "name": "stdout",
     "output_type": "stream",
     "text": [
      "Задание №5 Моделирование независимых случайных векторов X, Y имеющих нормальное распределение с заданным математическим ожиданием и корреляционной матрицей\n",
      "----------------------------------------------------------------------\n",
      "            X         Y\n",
      "0   -2.616584 -1.126363\n",
      "1   -1.494643  3.585933\n",
      "2   -1.431535  1.117193\n",
      "3    0.172338  1.123691\n",
      "4   -0.597638  0.845800\n",
      "..        ...       ...\n",
      "995 -1.109668 -1.271386\n",
      "996 -1.007935  1.674249\n",
      "997 -1.087146  0.639422\n",
      "998 -1.690512  0.635032\n",
      "999 -1.511430 -0.197352\n",
      "\n",
      "[1000 rows x 2 columns]\n"
     ]
    }
   ],
   "source": [
    "print(\"Задание №5 Моделирование независимых случайных векторов X, Y имеющих нормальное распределение с заданным математическим ожиданием и корреляционной матрицей\")\n",
    "print(\"----------------------------------------------------------------------\")\n",
    "mean =[-1,1]\n",
    "cov = [[1,0.1],[0.1,2]]\n",
    "n = 1000\n",
    "x_n, y_n = np.random.multivariate_normal(mean, cov, n).T\n",
    "table_n = pd.DataFrame({'X': x_n, 'Y': y_n})\n",
    "print(table_n)"
   ]
  },
  {
   "cell_type": "code",
   "execution_count": 39,
   "metadata": {},
   "outputs": [
    {
     "name": "stdout",
     "output_type": "stream",
     "text": [
      "Задание №6 Изображение точек на плоскости для этих двух признаков с регрессионной прямой\n",
      "---------------------------------------------------\n"
     ]
    },
    {
     "data": {
      "image/png": "[encoded data removed]",
      "text/plain": [
       "<Figure size 360x360 with 1 Axes>"
      ]
     },
     "metadata": {
      "needs_background": "light"
     },
     "output_type": "display_data"
    }
   ],
   "source": [
    "print(\"Задание №6 Изображение точек на плоскости для этих двух признаков с регрессионной прямой\")\n",
    "print(\"----------------------------------------------------------------------\")\n",
    "sns.lmplot(x = \"X\", y = \"Y\", data = table_n)\n",
    "plt.show()"
   ]
  },
  {
   "cell_type": "code",
   "execution_count": 40,
   "metadata": {},
   "outputs": [
    {
     "name": "stdout",
     "output_type": "stream",
     "text": [
      "Задание №7 Определение коэффициента корреляции Пирсона\n",
      "---------------------------------------------------\n",
      "коэффициента корреляции Пирсона в ручную:  0.02618693231361919\n",
      "коэффициента корреляции Пирсона с помощью np.corrcoef():  0.0261869323136192\n"
     ]
    }
   ],
   "source": [
    "print(\"Задание №7 Определение коэффициента корреляции Пирсона\")\n",
    "print(\"----------------------------------------------------------------------\")\n",
    "def pirson1(lst):\n",
    "    aver1 = lst['X'].mean()\n",
    "    aver2 = lst['Y'].mean()\n",
    "    mas1 = lst['X'].tolist()\n",
    "    mas2 = lst['Y'].tolist()\n",
    "    s1, s2, s3 = 0, 0, 0\n",
    "    for x, y in zip(mas1, mas2):\n",
    "        s1 += (x-aver1)*(y-aver2)\n",
    "        s2 += (x - aver1) * (x - aver1)\n",
    "        s3 += (y - aver2) * (y - aver2)\n",
    "    import math\n",
    "    s2 = math.sqrt(s2)\n",
    "    s3 = math.sqrt(s3)\n",
    "    s = s1/(s2*s3)\n",
    "    return s\n",
    "print(\"коэффициента корреляции Пирсона в ручную: \", pirson1(table_n))\n",
    "aver1 = table_n['X'].tolist()\n",
    "aver2 = table_n['Y'].tolist()\n",
    "x = np.corrcoef(np.vstack((aver1, aver2)))\n",
    "otv = x[0][1]\n",
    "print(\"коэффициента корреляции Пирсона с помощью np.corrcoef(): \",otv)"
   ]
  },
  {
   "cell_type": "code",
   "execution_count": 41,
   "metadata": {},
   "outputs": [
    {
     "name": "stdout",
     "output_type": "stream",
     "text": [
      "ЗАДАНИЕ №9 Описание корреляции признаков в выборке и оценка возможности отклонить нулевую гипотезу о том, что в генеральной совокупности коэффициент корреляции равен нулю\n",
      "---------------------------------------------------\n",
      "Гипотезу можно отвергнуть.\n"
     ]
    }
   ],
   "source": [
    "print(\"Описание корреляции признаков в выборке и оценка возможности отклонить нулевую гипотезу о том, что в генеральной совокупности коэффициент корреляции равен нулю\")\n",
    "print(\"----------------------------------------------------------------------\")\n",
    "if pval < 0.05 : \n",
    "  print('Гипотезу можно отвергнуть.')\n",
    "else:\n",
    "  print('Гипотезу нельзя отвергнуть.')"
   ]
  },
  {
   "cell_type": "markdown",
   "metadata": {},
   "source": [
    "# Часть 3"
   ]
  },
  {
   "cell_type": "code",
   "execution_count": 42,
   "metadata": {},
   "outputs": [],
   "source": [
    "import scipy"
   ]
  },
  {
   "cell_type": "code",
   "execution_count": 43,
   "metadata": {},
   "outputs": [
    {
     "name": "stdout",
     "output_type": "stream",
     "text": [
      "Задание №1 Моделирование данных по функции . В качестве нужно использовать гауссовский белый шум с нулевым математическим ожиданием и заданной дисперсией . Значения выбираются через равные промежутки на отрезке (количество точек , параметры согласно варианту)\n",
      "----------------------------------------------------------------------------------------------\n",
      "            X         Y       Y_1\n",
      "0    0.008333  1.513383  1.004167\n",
      "1    0.016667  1.440200  1.008333\n",
      "2    0.025000 -0.005193  1.012500\n",
      "3    0.033333  1.852979  1.016667\n",
      "4    0.041667  1.011811  1.020833\n",
      "..        ...       ...       ...\n",
      "115  0.966667  1.005070  1.483333\n",
      "116  0.975000  1.235897  1.487500\n",
      "117  0.983333  1.387533  1.491667\n",
      "118  0.991667  1.509146  1.495833\n",
      "119  1.000000  1.200135  1.500000\n",
      "\n",
      "[120 rows x 3 columns]\n"
     ]
    }
   ],
   "source": [
    "print(\"Задание №1 Моделирование данных по функции . В качестве нужно использовать гауссовский белый шум с нулевым математическим ожиданием и заданной дисперсией . Значения выбираются через равные промежутки на отрезке (количество точек , параметры согласно варианту)\")\n",
    "print(\"----------------------------------------------------------------------\")\n",
    "\n",
    "n = 120\n",
    "a = 0.5\n",
    "b = 1\n",
    "s = 0.1\n",
    "\n",
    "x_i = []\n",
    "y_i = []\n",
    "y_i_2 = []\n",
    "step = 1 / n\n",
    "\n",
    "for i in range(n):\n",
    "    x = step\n",
    "    # e = sp.stats.norm.rvs(0, s, n)\n",
    "\n",
    "    x_i.append(x)\n",
    "    y_i.append(a * x + b + scipy.stats.norm.rvs(loc=0, scale=math.sqrt(s)))\n",
    "    y_i_2.append(a * x + b)\n",
    "    step += 1 / n\n",
    "n5_data = pd.DataFrame(data={\n",
    "    'X': x_i,\n",
    "    'Y': y_i,\n",
    "    'Y_1': y_i_2\n",
    "})\n",
    "\n",
    "print(n5_data)"
   ]
  },
  {
   "cell_type": "code",
   "execution_count": 44,
   "metadata": {},
   "outputs": [
    {
     "name": "stdout",
     "output_type": "stream",
     "text": [
      "Задание №2 Изображение точек на плоскости для этих двух признаков\n",
      "----------------------------------------------------------------------\n"
     ]
    },
    {
     "data": {
      "image/png": "[encoded data removed]",
      "text/plain": [
       "<Figure size 576x576 with 1 Axes>"
      ]
     },
     "metadata": {
      "needs_background": "light"
     },
     "output_type": "display_data"
    }
   ],
   "source": [
    "print(\"Задание №2 Изображение точек на плоскости для этих двух признаков\")\n",
    "print(\"----------------------------------------------------------------------\")\n",
    "\n",
    "x = n5_data['X'].tolist()\n",
    "y = n5_data['Y'].tolist()\n",
    "\n",
    "fig, ax = plt.subplots()\n",
    "\n",
    "ax.scatter(x, y, c='blue')\n",
    "ax.set_facecolor('white')\n",
    "\n",
    "fig.set_figwidth(8)\n",
    "fig.set_figheight(8)\n",
    "\n",
    "plt.show()"
   ]
  },
  {
   "cell_type": "code",
   "execution_count": 45,
   "metadata": {},
   "outputs": [
    {
     "name": "stdout",
     "output_type": "stream",
     "text": [
      "Задание №3 Построение модели линейной регрессии, вычисление оптимальных параметров из условия минимизации суммы квадратов отклонений для заданных значений признаков, используя общее матричное решение\n",
      "----------------------------------------------------------------------\n",
      "a = 0.4370678598753961\n",
      "b = 1.030875330377124\n",
      "            X         Y     Y_REG       Y_1\n",
      "0    0.008333  1.513383  1.034518  1.004167\n",
      "1    0.016667  1.440200  1.038160  1.008333\n",
      "2    0.025000 -0.005193  1.041802  1.012500\n",
      "3    0.033333  1.852979  1.045444  1.016667\n",
      "4    0.041667  1.011811  1.049086  1.020833\n",
      "..        ...       ...       ...       ...\n",
      "115  0.966667  1.005070  1.453374  1.483333\n",
      "116  0.975000  1.235897  1.457016  1.487500\n",
      "117  0.983333  1.387533  1.460659  1.491667\n",
      "118  0.991667  1.509146  1.464301  1.495833\n",
      "119  1.000000  1.200135  1.467943  1.500000\n",
      "\n",
      "[120 rows x 4 columns]\n"
     ]
    }
   ],
   "source": [
    "print(\"Задание №3 Построение модели линейной регрессии, вычисление оптимальных параметров из условия минимизации суммы квадратов отклонений для заданных значений признаков, используя общее матричное решение\")\n",
    "print(\"----------------------------------------------------------------------\")\n",
    "X = n5_data['X']\n",
    "Y = n5_data['Y']\n",
    "\n",
    "XY = X * Y\n",
    "\n",
    "a = np.array([[X.apply(lambda x: x*x).sum(), X.sum()], [X.sum(), n]])\n",
    "b = np.array([XY.sum(), Y.sum()])\n",
    "\n",
    "x = np.linalg.solve(a, b)\n",
    "\n",
    "print('a = ' + str(x[0]))\n",
    "print('b = ' + str(x[1]))\n",
    "\n",
    "y_reg = []\n",
    "\n",
    "for i in range(n):\n",
    "  y_reg.append( x[0] * X[i] + x[1])\n",
    "\n",
    "n5_data.insert(2, column='Y_REG', value=y_reg)\n",
    "\n",
    "print(n5_data)"
   ]
  },
  {
   "cell_type": "code",
   "execution_count": 46,
   "metadata": {},
   "outputs": [
    {
     "name": "stdout",
     "output_type": "stream",
     "text": [
      "Задание №4 Визуализация полученных данных (изображение точек и 2 прямых) \n",
      "----------------------------------------------------------------------\n"
     ]
    },
    {
     "data": {
      "image/png": "[encoded data removed]",
      "text/plain": [
       "<Figure size 960x720 with 1 Axes>"
      ]
     },
     "metadata": {},
     "output_type": "display_data"
    }
   ],
   "source": [
    "print(\"Задание №4 Визуализация полученных данных (изображение точек и 2 прямых) \")\n",
    "print(\"----------------------------------------------------------------------\")\n",
    "\n",
    "plt.figure(num=None, figsize=(8, 6), dpi=120, facecolor='w', edgecolor='k')\n",
    "\n",
    "plt.plot(n5_data['X'], n5_data['Y_REG'], 'r')\n",
    "plt.plot(n5_data['X'], n5_data['Y_1'], 'b--')\n",
    "plt.plot(n5_data['X'], n5_data['Y'], 'go')\n",
    "plt.show()"
   ]
  },
  {
   "cell_type": "code",
   "execution_count": 47,
   "metadata": {},
   "outputs": [
    {
     "name": "stdout",
     "output_type": "stream",
     "text": [
      "Задание №5 Вычислить коэффициент детерминации\n",
      "----------------------------------------------------------------------\n",
      "R^2 = 0.12330103506916301\n"
     ]
    }
   ],
   "source": [
    "print(\"Задание №5 Вычислить коэффициент детерминации\")\n",
    "print(\"----------------------------------------------------------------------\")\n",
    "rss = 0\n",
    "tss = 0\n",
    "y_ = n5_data['Y'].sum()/n5_data['Y'].size\n",
    "\n",
    "for i in range(n5_data['Y'].size):\n",
    "  rss += (n5_data['Y'][i] - n5_data['Y_REG'][i])**2\n",
    "\n",
    "for i in range(n5_data['Y'].size):\n",
    "  tss += (n5_data['Y'][i] - y_)**2\n",
    "\n",
    "r = 1 - rss/tss\n",
    "print('R^2 = ' + str(r))"
   ]
  },
  {
   "cell_type": "code",
   "execution_count": 48,
   "metadata": {},
   "outputs": [
    {
     "name": "stdout",
     "output_type": "stream",
     "text": [
      "Задание №6 Все данные из csv\n",
      "----------------------------------------------------------------------\n",
      "          id  radius  texture  perimeter  area  smoothness  compactness  \\\n",
      "0    1002945       5        4          4     5           7           10   \n",
      "1    1015425       3        1          1     1           2            2   \n",
      "2    1016277       6        8          8     1           3            4   \n",
      "3    1017023       4        1          1     3           2            1   \n",
      "4    1017122       8       10         10     8           7           10   \n",
      "..       ...     ...      ...        ...   ...         ...          ...   \n",
      "344   826923       1        1          1     1           2            1   \n",
      "345   830690       5        2          2     2           3            1   \n",
      "346   831268       1        1          1     1           1            1   \n",
      "347   832226       3        4          4    10           5            1   \n",
      "348   832567       4        2          3     5           3            8   \n",
      "\n",
      "     concavity  concave points  symmetry  fractal dimension  \n",
      "0            3               2         1                  2  \n",
      "1            3               1         1                  2  \n",
      "2            3               7         1                  2  \n",
      "3            3               1         1                  2  \n",
      "4            9               7         1                  4  \n",
      "..         ...             ...       ...                ...  \n",
      "344          1               1         1                  2  \n",
      "345          1               3         1                  2  \n",
      "346          1               3         1                  2  \n",
      "347          3               3         1                  4  \n",
      "348          7               6         1                  4  \n",
      "\n",
      "[349 rows x 11 columns]\n"
     ]
    }
   ],
   "source": [
    "print(\"Задание №6 Все данные из csv\")\n",
    "print(\"----------------------------------------------------------------------\")\n",
    "csv_path = \"F:/breast-cancer-wisconsin.csv\"\n",
    "lst = pd.read_csv(csv_path, sep=',')\n",
    "print(lst)"
   ]
  },
  {
   "cell_type": "code",
   "execution_count": 49,
   "metadata": {},
   "outputs": [
    {
     "name": "stdout",
     "output_type": "stream",
     "text": [
      "Задание №7 Создание нового датафрейма только с нужными для исследования признаками\n",
      "----------------------------------------------------------------------\n",
      "     perimeter  area\n",
      "0            4     5\n",
      "1            1     1\n",
      "2            8     1\n",
      "3            1     3\n",
      "4           10     8\n",
      "..         ...   ...\n",
      "344          1     1\n",
      "345          2     2\n",
      "346          1     1\n",
      "347          4    10\n",
      "348          3     5\n",
      "\n",
      "[349 rows x 2 columns]\n"
     ]
    }
   ],
   "source": [
    "print(\"Задание №7 Создание нового датафрейма только с нужными для исследования признаками\")\n",
    "print(\"----------------------------------------------------------------------\")\n",
    "new_lst = lst[['perimeter', 'area']]\n",
    "print(new_lst)"
   ]
  },
  {
   "cell_type": "code",
   "execution_count": 50,
   "metadata": {},
   "outputs": [
    {
     "name": "stdout",
     "output_type": "stream",
     "text": [
      "Задание №8  Вставить изображение точек на плоскости для этих двух столбцов\n",
      "----------------------------------------------------------------------\n"
     ]
    },
    {
     "data": {
      "image/png": "[encoded data removed]",
      "text/plain": [
       "<Figure size 576x576 with 1 Axes>"
      ]
     },
     "metadata": {
      "needs_background": "light"
     },
     "output_type": "display_data"
    }
   ],
   "source": [
    "print(\"Задание №8  Вставить изображение точек на плоскости для этих двух столбцов\")\n",
    "print(\"----------------------------------------------------------------------\")\n",
    "\n",
    "x = new_lst['perimeter'].tolist()\n",
    "y = new_lst['area'].tolist()\n",
    "\n",
    "fig, ax = plt.subplots()\n",
    "\n",
    "ax.scatter(x, y, c='blue')\n",
    "ax.set_facecolor('white')\n",
    "\n",
    "fig.set_figwidth(8)\n",
    "fig.set_figheight(8)\n",
    "\n",
    "plt.show()"
   ]
  },
  {
   "cell_type": "code",
   "execution_count": 51,
   "metadata": {},
   "outputs": [
    {
     "name": "stdout",
     "output_type": "stream",
     "text": [
      "Задание №9 Построение модели линейной регрессии, вычисление оптимальных параметров из условия минимизации суммы квадратов отклонений для заданных значений признаков, используя общее матричное решение\n",
      "----------------------------------------------------------------------\n",
      "a = 0.9775056794805286\n",
      "b = -1.471018251852911\n",
      "     perimeter  area     Y_REG\n",
      "0            4     5  2.439004\n",
      "1            1     1 -0.493513\n",
      "2            8     1  6.349027\n",
      "3            1     3 -0.493513\n",
      "4           10     8  8.304039\n",
      "..         ...   ...       ...\n",
      "344          1     1 -0.493513\n",
      "345          2     2  0.483993\n",
      "346          1     1 -0.493513\n",
      "347          4    10  2.439004\n",
      "348          3     5  1.461499\n",
      "\n",
      "[349 rows x 3 columns]\n"
     ]
    }
   ],
   "source": [
    "print(\"Задание №9 Построение модели линейной регрессии, вычисление оптимальных параметров из условия минимизации суммы квадратов отклонений для заданных значений признаков, используя общее матричное решение\")\n",
    "print(\"----------------------------------------------------------------------\")\n",
    "\n",
    "X = new_lst['perimeter']\n",
    "Y = new_lst['area']\n",
    "XY = X * Y\n",
    "\n",
    "a = np.array([[X.apply(lambda x: x*x).sum(), X.sum()], [X.sum(), n]])\n",
    "b = np.array([XY.sum(), Y.sum()])\n",
    "x = np.linalg.solve(a, b)\n",
    "\n",
    "print('a = ' + str(x[0]))\n",
    "print('b = ' + str(x[1]))\n",
    "\n",
    "y_reg = []\n",
    "for i in range(349):\n",
    "  y_reg.append( x[0] * X[i] + x[1])\n",
    "\n",
    "new_lst.insert(2, column='Y_REG', value=y_reg)\n",
    "\n",
    "print(new_lst)"
   ]
  },
  {
   "cell_type": "code",
   "execution_count": 52,
   "metadata": {},
   "outputs": [
    {
     "name": "stdout",
     "output_type": "stream",
     "text": [
      "Задание №10 Визуализация полученных данных (изображение точек и 2 прямых) \n",
      "----------------------------------------------------------------------\n"
     ]
    },
    {
     "data": {
      "image/png": "[encoded data removed]",
      "text/plain": [
       "<Figure size 960x720 with 1 Axes>"
      ]
     },
     "metadata": {},
     "output_type": "display_data"
    }
   ],
   "source": [
    "print(\"Задание №10 Визуализация полученных данных (изображение точек и 2 прямых) \")\n",
    "print(\"----------------------------------------------------------------------\")\n",
    "\n",
    "plt.figure(num=None, figsize=(8, 6), dpi=120, facecolor='w', edgecolor='k')\n",
    "plt.plot(new_lst['perimeter'], new_lst['Y_REG'], 'r')\n",
    "plt.plot(new_lst['perimeter'], new_lst['area'], 'go')\n",
    "\n",
    "plt.show()"
   ]
  },
  {
   "cell_type": "code",
   "execution_count": 53,
   "metadata": {},
   "outputs": [
    {
     "name": "stdout",
     "output_type": "stream",
     "text": [
      "Задание №11 Вычислить коэффициент детерминации\n",
      "----------------------------------------------------------------------\n",
      "R^2 = 0.10583298489190973\n"
     ]
    }
   ],
   "source": [
    "print(\"Задание №11 Вычислить коэффициент детерминации\")\n",
    "print(\"----------------------------------------------------------------------\")\n",
    "rss = 0\n",
    "tss = 0\n",
    "y_ = new_lst['area'].sum()/new_lst['area'].size\n",
    "\n",
    "for i in range(new_lst['area'].size):\n",
    "  rss += (new_lst['area'][i] - new_lst['Y_REG'][i])**2\n",
    "\n",
    "for i in range(new_lst['area'].size):\n",
    "  tss += (new_lst['area'][i] - y_)**2\n",
    "\n",
    "r = 1 - rss/tss\n",
    "print('R^2 = ' + str(r))"
   ]
  },
  {
   "cell_type": "code",
   "execution_count": null,
   "metadata": {},
   "outputs": [],
   "source": []
  }
 ],
 "metadata": {
  "kernelspec": {
   "display_name": "Python 3",
   "language": "python",
   "name": "python3"
  },
  "language_info": {
   "codemirror_mode": {
    "name": "ipython",
    "version": 3
   },
   "file_extension": ".py",
   "mimetype": "text/x-python",
   "name": "python",
   "nbconvert_exporter": "python",
   "pygments_lexer": "ipython3",
   "version": "3.7.4"
  }
 },
 "nbformat": 4,
 "nbformat_minor": 4
}
